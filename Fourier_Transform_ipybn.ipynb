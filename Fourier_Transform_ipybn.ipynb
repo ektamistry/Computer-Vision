{
  "nbformat": 4,
  "nbformat_minor": 0,
  "metadata": {
    "colab": {
      "provenance": [],
      "include_colab_link": true
    },
    "kernelspec": {
      "name": "python3",
      "display_name": "Python 3"
    },
    "language_info": {
      "name": "python"
    }
  },
  "cells": [
    {
      "cell_type": "markdown",
      "metadata": {
        "id": "view-in-github",
        "colab_type": "text"
      },
      "source": [
        "<a href=\"https://colab.research.google.com/github/ektamistry/Computer-Vision/blob/main/Fourier_Transform_ipybn.ipynb\" target=\"_parent\"><img src=\"https://colab.research.google.com/assets/colab-badge.svg\" alt=\"Open In Colab\"/></a>"
      ]
    },
    {
      "cell_type": "markdown",
      "source": [
        "a. Obtain twiddle factor matrix\n",
        "\n",
        "\n",
        "b. To find the DFT and IDFT of [1,2,2,1] using twiddle factor matrix.\n",
        "\n",
        "\n",
        "\n",
        "c. To compute the DFT using matrix method and FFT function.\n",
        "\n",
        "\n",
        "\n",
        "d. Observe and comment on execution time required for each of the above method."
      ],
      "metadata": {
        "id": "rak39KctZ3Ut"
      }
    },
    {
      "cell_type": "code",
      "execution_count": null,
      "metadata": {
        "id": "sujvj3iK8Blf"
      },
      "outputs": [],
      "source": [
        "import numpy as np"
      ]
    },
    {
      "cell_type": "code",
      "source": [
        "x = np.array([1,2,1,2]) # Enter the input seqence."
      ],
      "metadata": {
        "id": "T_P9cGdk8JoW"
      },
      "execution_count": null,
      "outputs": []
    },
    {
      "cell_type": "code",
      "source": [
        "# obtain forward transform\n",
        "X = np.fft.fft(x)  # using built in function from fft pack of numpy obtain the transformed sequence\n",
        "# fft(fast fourier transform )\n",
        "print(X)"
      ],
      "metadata": {
        "colab": {
          "base_uri": "https://localhost:8080/"
        },
        "id": "QIPzt3z28S5l",
        "outputId": "c0d5e3f0-214e-44eb-8c5c-465d5a2632b8"
      },
      "execution_count": null,
      "outputs": [
        {
          "output_type": "stream",
          "name": "stdout",
          "text": [
            "[ 6.+0.j  0.+0.j -2.+0.j  0.+0.j]\n"
          ]
        }
      ]
    },
    {
      "cell_type": "code",
      "source": [
        "# Obtain inverse transform\n",
        "X_i = np.fft.ifft(X) # using built in function from fft pack for inverse transform\n",
        "print(X_i)"
      ],
      "metadata": {
        "colab": {
          "base_uri": "https://localhost:8080/"
        },
        "id": "Ba63-VLRUFMT",
        "outputId": "7b9020ef-47b0-483d-b569-d3a0c1a268c3"
      },
      "execution_count": null,
      "outputs": [
        {
          "output_type": "stream",
          "name": "stdout",
          "text": [
            "[1.+0.j 2.+0.j 1.+0.j 2.+0.j]\n"
          ]
        }
      ]
    },
    {
      "cell_type": "markdown",
      "source": [
        "Twiddle factor matrix\n",
        "\n",
        "$W^{nk}_{N} = e^{\\frac{-2\\pi nk}{N}}$ for n and k = 0 to N-1\n",
        "\n",
        "$e^{ix} = cosx-isinx$"
      ],
      "metadata": {
        "id": "KiVCU46rAFyF"
      }
    },
    {
      "cell_type": "code",
      "source": [
        "# obtain the above twiddle factor matrix for forward transform\n",
        "\n",
        "N=4\n",
        "W= np.zeros((4,4), dtype= complex)\n",
        "for n in range(0,N):\n",
        "  for k in range(0,N):\n",
        "    real= int(np.cos(2*np.pi*n*k/N))\n",
        "    imaginary= -1*int(np.sin(2*np.pi*n*k/N))\n",
        "    W[n,k]= complex(real,imaginary)\n",
        "W"
      ],
      "metadata": {
        "colab": {
          "base_uri": "https://localhost:8080/"
        },
        "id": "v7GEetTO9ZXt",
        "outputId": "6b9e48ae-2ca6-4cd6-8f18-d2c5f6807138"
      },
      "execution_count": null,
      "outputs": [
        {
          "output_type": "execute_result",
          "data": {
            "text/plain": [
              "array([[ 1.+0.j,  1.+0.j,  1.+0.j,  1.+0.j],\n",
              "       [ 1.+0.j,  0.-1.j, -1.+0.j,  0.+1.j],\n",
              "       [ 1.+0.j, -1.+0.j,  1.+0.j, -1.+0.j],\n",
              "       [ 1.+0.j,  0.+1.j, -1.+0.j,  0.-1.j]])"
            ]
          },
          "metadata": {},
          "execution_count": 15
        }
      ]
    },
    {
      "cell_type": "code",
      "source": [
        "# obtain transform without using the builtin function\n",
        "X1 = np.dot( W, np.transpose(x))\n",
        "X1"
      ],
      "metadata": {
        "colab": {
          "base_uri": "https://localhost:8080/"
        },
        "id": "LmFnRIQsWoyW",
        "outputId": "526cff46-1d8e-4821-edfc-30ea5de84d30"
      },
      "execution_count": null,
      "outputs": [
        {
          "output_type": "execute_result",
          "data": {
            "text/plain": [
              "array([ 6.+0.j,  0.+0.j, -2.+0.j,  0.+0.j])"
            ]
          },
          "metadata": {},
          "execution_count": 24
        }
      ]
    },
    {
      "cell_type": "code",
      "source": [
        "# obtain the above twiddle factor mtrix for inverse transform\n",
        "N=4\n",
        "W_inv= np.zeros((4,4), dtype= complex)\n",
        "for n in range(0,N):\n",
        "  for k in range(0,N):\n",
        "    real= int(np.cos(2*np.pi*n*k/N))\n",
        "    imaginary= int(np.sin(2*np.pi*n*k/N))\n",
        "    W_inv[n,k]= complex(real,imaginary)\n",
        "W_inv"
      ],
      "metadata": {
        "colab": {
          "base_uri": "https://localhost:8080/"
        },
        "id": "Pj7mDV3NWaVn",
        "outputId": "83d03b31-f2dd-4714-b68a-e0ef83955b50"
      },
      "execution_count": null,
      "outputs": [
        {
          "output_type": "execute_result",
          "data": {
            "text/plain": [
              "array([[ 1.+0.j,  1.+0.j,  1.+0.j,  1.+0.j],\n",
              "       [ 1.+0.j,  0.+1.j, -1.+0.j,  0.-1.j],\n",
              "       [ 1.+0.j, -1.+0.j,  1.+0.j, -1.+0.j],\n",
              "       [ 1.+0.j,  0.-1.j, -1.+0.j,  0.+1.j]])"
            ]
          },
          "metadata": {},
          "execution_count": 16
        }
      ]
    },
    {
      "cell_type": "code",
      "source": [
        "# Apply inverse DFT on the transformed sequence X1\n",
        "X1_i = np.dot( W_inv , X1 )/ N\n",
        "X1_i"
      ],
      "metadata": {
        "colab": {
          "base_uri": "https://localhost:8080/"
        },
        "id": "k5Fa8k6ZYP9P",
        "outputId": "b9ae8978-0a56-4e57-9c2e-dac09e1d029b"
      },
      "execution_count": null,
      "outputs": [
        {
          "output_type": "execute_result",
          "data": {
            "text/plain": [
              "array([1.+0.j, 2.+0.j, 1.+0.j, 2.+0.j])"
            ]
          },
          "metadata": {},
          "execution_count": 25
        }
      ]
    },
    {
      "cell_type": "markdown",
      "source": [
        "##Conclusion\n",
        "1. Obtained forward and inverse transform using builtin function from fft pack of numpy.\n",
        "2. Obtained the twiddle factor matrix for forward transform and inverse transform.\n",
        "3. Applied inverse DFT on the transformed sequence using matrix method and FFT function."
      ],
      "metadata": {
        "id": "SdmC8_P1awfG"
      }
    }
  ]
}