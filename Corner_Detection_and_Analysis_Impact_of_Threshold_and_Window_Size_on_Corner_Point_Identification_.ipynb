{
  "nbformat": 4,
  "nbformat_minor": 0,
  "metadata": {
    "colab": {
      "provenance": [],
      "include_colab_link": true
    },
    "kernelspec": {
      "name": "python3",
      "display_name": "Python 3"
    },
    "language_info": {
      "name": "python"
    }
  },
  "cells": [
    {
      "cell_type": "markdown",
      "metadata": {
        "id": "view-in-github",
        "colab_type": "text"
      },
      "source": [
        "<a href=\"https://colab.research.google.com/github/ektamistry/Computer-Vision/blob/main/Corner_Detection_and_Analysis_Impact_of_Threshold_and_Window_Size_on_Corner_Point_Identification_.ipynb\" target=\"_parent\"><img src=\"https://colab.research.google.com/assets/colab-badge.svg\" alt=\"Open In Colab\"/></a>"
      ]
    },
    {
      "cell_type": "code",
      "execution_count": null,
      "metadata": {
        "id": "KBFiYhE4--Jt"
      },
      "outputs": [],
      "source": [
        "import cv2\n",
        "import matplotlib.pyplot as plt\n",
        "from google.colab.patches import cv2_imshow\n",
        "import numpy as np\n",
        "import io"
      ]
    },
    {
      "cell_type": "code",
      "source": [
        "img = cv2.imread(\"/content/corners.png\")\n",
        "cv2_imshow(img)\n",
        "print(img.shape)"
      ],
      "metadata": {
        "colab": {
          "base_uri": "https://localhost:8080/",
          "height": 359
        },
        "outputId": "daef9bfc-3b7e-419c-b34a-1181e09b3c36",
        "id": "QCOzCLIFgWi3"
      },
      "execution_count": null,
      "outputs": [
        {
          "output_type": "display_data",
          "data": {
            "text/plain": [
              "<PIL.Image.Image image mode=RGB size=576x324>"
            ],
            "image/png": "[encoded data removed]"
          },
          "metadata": {}
        },
        {
          "output_type": "stream",
          "name": "stdout",
          "text": [
            "(324, 576, 3)\n"
          ]
        }
      ]
    },
    {
      "cell_type": "code",
      "source": [
        "Gray_img = cv2.cvtColor(img,cv2.COLOR_BGR2GRAY)\n",
        "cv2_imshow(Gray_img)\n",
        "print(Gray_img.shape)"
      ],
      "metadata": {
        "colab": {
          "base_uri": "https://localhost:8080/",
          "height": 359
        },
        "outputId": "4ba83341-a39e-4638-abf4-e135d164b2fb",
        "id": "toq5xGL2gWi4"
      },
      "execution_count": null,
      "outputs": [
        {
          "output_type": "display_data",
          "data": {
            "text/plain": [
              "<PIL.Image.Image image mode=L size=576x324>"
            ],
            "image/png": "[encoded data removed]"
          },
          "metadata": {}
        },
        {
          "output_type": "stream",
          "name": "stdout",
          "text": [
            "(324, 576)\n"
          ]
        }
      ]
    },
    {
      "cell_type": "code",
      "source": [
        "yy = cv2.GaussianBlur(Gray_img,(3,3),cv2.BORDER_DEFAULT)\n",
        "cv2_imshow(yy)"
      ],
      "metadata": {
        "colab": {
          "base_uri": "https://localhost:8080/",
          "height": 341
        },
        "outputId": "e21ac942-b593-43fa-8682-86c472d5ddd5",
        "id": "6v9p0NO8gWi4"
      },
      "execution_count": null,
      "outputs": [
        {
          "output_type": "display_data",
          "data": {
            "text/plain": [
              "<PIL.Image.Image image mode=L size=576x324>"
            ],
            "image/png": "[encoded data removed]"
          },
          "metadata": {}
        }
      ]
    },
    {
      "cell_type": "code",
      "source": [
        "ix = cv2.Sobel(yy,cv2.CV_64F,1,0,ksize = 3)\n",
        "cv2_imshow(ix)"
      ],
      "metadata": {
        "colab": {
          "base_uri": "https://localhost:8080/",
          "height": 341
        },
        "outputId": "08312d6f-630f-4896-a3e6-4a2cc14042b2",
        "id": "p-MyVNW8gWi4"
      },
      "execution_count": null,
      "outputs": [
        {
          "output_type": "display_data",
          "data": {
            "text/plain": [
              "<PIL.Image.Image image mode=L size=576x324>"
            ],
            "image/png": "[encoded data removed]"
          },
          "metadata": {}
        }
      ]
    },
    {
      "cell_type": "code",
      "source": [
        "iy = cv2.Sobel(yy,cv2.CV_64F,0,1,ksize = 3)\n",
        "cv2_imshow(iy)"
      ],
      "metadata": {
        "colab": {
          "base_uri": "https://localhost:8080/",
          "height": 341
        },
        "outputId": "5019c6d8-77b9-48b7-cc33-b2255c947854",
        "id": "hNtxMaSJgWi5"
      },
      "execution_count": null,
      "outputs": [
        {
          "output_type": "display_data",
          "data": {
            "text/plain": [
              "<PIL.Image.Image image mode=L size=576x324>"
            ],
            "image/png": "[encoded data removed]"
          },
          "metadata": {}
        }
      ]
    },
    {
      "cell_type": "code",
      "source": [
        "ixSquare = np.square(ix)\n",
        "iySquare = np.square(iy)\n",
        "print(ixSquare , iySquare)"
      ],
      "metadata": {
        "colab": {
          "base_uri": "https://localhost:8080/"
        },
        "outputId": "be20de68-4c39-4024-9903-408f9d59abbf",
        "id": "elf58r0FgWi5"
      },
      "execution_count": null,
      "outputs": [
        {
          "output_type": "stream",
          "name": "stdout",
          "text": [
            "[[0. 0. 0. ... 0. 0. 0.]\n",
            " [0. 0. 0. ... 0. 0. 0.]\n",
            " [0. 0. 0. ... 0. 0. 0.]\n",
            " ...\n",
            " [0. 0. 0. ... 0. 0. 0.]\n",
            " [0. 0. 0. ... 0. 0. 0.]\n",
            " [0. 0. 0. ... 0. 0. 0.]] [[0. 0. 0. ... 0. 0. 0.]\n",
            " [0. 0. 0. ... 0. 0. 0.]\n",
            " [0. 0. 0. ... 0. 0. 0.]\n",
            " ...\n",
            " [0. 0. 0. ... 0. 0. 0.]\n",
            " [0. 0. 0. ... 0. 0. 0.]\n",
            " [0. 0. 0. ... 0. 0. 0.]]\n"
          ]
        }
      ]
    },
    {
      "cell_type": "code",
      "source": [
        "ixiy = ix * iy"
      ],
      "metadata": {
        "id": "wqhgbNHVgWi5"
      },
      "execution_count": null,
      "outputs": []
    },
    {
      "cell_type": "code",
      "source": [
        "cv2_imshow(ixSquare)"
      ],
      "metadata": {
        "colab": {
          "base_uri": "https://localhost:8080/",
          "height": 341
        },
        "outputId": "e78d5b04-d70d-4a33-cde1-3ea734e5d46c",
        "id": "SCIVpqhTgWi6"
      },
      "execution_count": null,
      "outputs": [
        {
          "output_type": "display_data",
          "data": {
            "text/plain": [
              "<PIL.Image.Image image mode=L size=576x324>"
            ],
            "image/png": "[encoded data removed]"
          },
          "metadata": {}
        }
      ]
    },
    {
      "cell_type": "code",
      "source": [
        "cv2_imshow(iySquare)"
      ],
      "metadata": {
        "colab": {
          "base_uri": "https://localhost:8080/",
          "height": 341
        },
        "outputId": "468b029a-62fd-4237-e725-cab418e5d515",
        "id": "bmkF-CDhgWi6"
      },
      "execution_count": null,
      "outputs": [
        {
          "output_type": "display_data",
          "data": {
            "text/plain": [
              "<PIL.Image.Image image mode=L size=576x324>"
            ],
            "image/png": "[encoded data removed]"
          },
          "metadata": {}
        }
      ]
    },
    {
      "cell_type": "code",
      "source": [
        "cv2_imshow(ixiy)"
      ],
      "metadata": {
        "colab": {
          "base_uri": "https://localhost:8080/",
          "height": 341
        },
        "outputId": "627d7d05-64d1-4861-feb7-6adab5f92e2a",
        "id": "74vboMadgWi6"
      },
      "execution_count": null,
      "outputs": [
        {
          "output_type": "display_data",
          "data": {
            "text/plain": [
              "<PIL.Image.Image image mode=L size=576x324>"
            ],
            "image/png": "[encoded data removed]"
          },
          "metadata": {}
        }
      ]
    },
    {
      "cell_type": "code",
      "source": [
        "#Given image has defined or clear horizonal , vertical edges and corners. Using Sobel operators Gradients along x , y directions are determined.These gradients show black and white bars against gray background.\n",
        "#Images showing ixsqaure and iysquare (Square of gradients) along x , y direction has white bar againest gray backgroung this is because negative value of gradients is coverted to positive valuse of gradients.\n",
        "#Image showing ix*iy shows white pixels at locations where both ix and iy have non zero values (Either positive or negative)"
      ],
      "metadata": {
        "id": "nhK-lDSzgWi7"
      },
      "execution_count": null,
      "outputs": []
    },
    {
      "cell_type": "code",
      "source": [
        "R = np.zeros((ix.shape))\n",
        "plt.imshow(R, cmap = 'gray')"
      ],
      "metadata": {
        "colab": {
          "base_uri": "https://localhost:8080/",
          "height": 362
        },
        "outputId": "755a84ed-d6ed-4e0e-a7f1-905b39d98277",
        "id": "u3h60pvdgWi7"
      },
      "execution_count": null,
      "outputs": [
        {
          "output_type": "execute_result",
          "data": {
            "text/plain": [
              "<matplotlib.image.AxesImage at 0x79d87880b040>"
            ]
          },
          "metadata": {},
          "execution_count": 120
        },
        {
          "output_type": "display_data",
          "data": {
            "text/plain": [
              "<Figure size 640x480 with 1 Axes>"
            ],
            "image/png": "[encoded data removed]"
          },
          "metadata": {}
        }
      ]
    },
    {
      "cell_type": "code",
      "source": [
        "R.shape"
      ],
      "metadata": {
        "colab": {
          "base_uri": "https://localhost:8080/"
        },
        "outputId": "b6b3d752-c1d7-4fd2-f723-4817b87aaf01",
        "id": "sq1GWUJxgWi7"
      },
      "execution_count": null,
      "outputs": [
        {
          "output_type": "execute_result",
          "data": {
            "text/plain": [
              "(324, 576)"
            ]
          },
          "metadata": {},
          "execution_count": 121
        }
      ]
    },
    {
      "cell_type": "code",
      "source": [
        "window_size = 3\n",
        "st = int((window_size-1)/2)\n",
        "st"
      ],
      "metadata": {
        "colab": {
          "base_uri": "https://localhost:8080/"
        },
        "outputId": "ee75350d-e1eb-4436-f6f1-2c94f9915d30",
        "id": "Jtkek5BegWi8"
      },
      "execution_count": null,
      "outputs": [
        {
          "output_type": "execute_result",
          "data": {
            "text/plain": [
              "1"
            ]
          },
          "metadata": {},
          "execution_count": 122
        }
      ]
    },
    {
      "cell_type": "code",
      "source": [
        "window_size = 7\n",
        "st = int((window_size-1)/2)\n",
        "st"
      ],
      "metadata": {
        "colab": {
          "base_uri": "https://localhost:8080/"
        },
        "outputId": "f4d473e7-88fb-4dfe-ef37-2fe6920db705",
        "id": "nlu6w7EpgWi8"
      },
      "execution_count": null,
      "outputs": [
        {
          "output_type": "execute_result",
          "data": {
            "text/plain": [
              "3"
            ]
          },
          "metadata": {},
          "execution_count": 123
        }
      ]
    },
    {
      "cell_type": "code",
      "source": [
        "for r in range (st , ix.shape[0]-st):\n",
        "  for c in range(st ,ix.shape[1]-st ):\n",
        "    sum1 = np.sum(ixSquare[r-st:r+st,c-st:c+st])\n",
        "    sum2 = np.sum(iySquare[r-st:r+st,c-st:c+st])\n",
        "    sum3 = np.sum(ixiy[r-st:r+st,c-st:c+st])\n",
        "    det = sum1*sum2 - sum3**2\n",
        "    trace = sum1+sum2\n",
        "    R[r,c] = det - 0.04*(trace**2)"
      ],
      "metadata": {
        "id": "2LZBurXxgWi8"
      },
      "execution_count": null,
      "outputs": []
    },
    {
      "cell_type": "code",
      "source": [
        "np.max(R)"
      ],
      "metadata": {
        "colab": {
          "base_uri": "https://localhost:8080/"
        },
        "outputId": "09dac537-e7fd-4825-c1a3-650dca90a9ef",
        "id": "YpzGwDUmgWi9"
      },
      "execution_count": null,
      "outputs": [
        {
          "output_type": "execute_result",
          "data": {
            "text/plain": [
              "98413950085.76"
            ]
          },
          "metadata": {},
          "execution_count": 125
        }
      ]
    },
    {
      "cell_type": "code",
      "source": [
        "mx =np.max(np.max(R))\n",
        "Corner = []\n",
        "threshold=0.5*mx\n",
        "for r in range (R.shape[0]):\n",
        "  for c in range(R.shape[1]):\n",
        "    if R[r,c] > threshold:\n",
        "      Corner.append([c,r])\n",
        "      cv2.circle(img,Corner[-1],radius=3,color=(0,0,255))\n",
        "len(Corner)\n",
        "cv2_imshow(img)"
      ],
      "metadata": {
        "colab": {
          "base_uri": "https://localhost:8080/",
          "height": 341
        },
        "outputId": "cdd1a8b5-8744-46fe-b9d5-8cbcecee6029",
        "id": "1A1_Du_lgWi-"
      },
      "execution_count": null,
      "outputs": [
        {
          "output_type": "display_data",
          "data": {
            "text/plain": [
              "<PIL.Image.Image image mode=RGB size=576x324>"
            ],
            "image/png": "[encoded data removed]"
          },
          "metadata": {}
        }
      ]
    },
    {
      "cell_type": "code",
      "source": [
        "mx =np.max(np.max(R))\n",
        "Corner = []\n",
        "threshold=0.6*mx\n",
        "for r in range (R.shape[0]):\n",
        "  for c in range(R.shape[1]):\n",
        "    if R[r,c] > threshold:\n",
        "      Corner.append([c,r])\n",
        "      cv2.circle(img,Corner[-1],radius=3,color=(0,0,255))\n",
        "len(Corner)\n",
        "cv2_imshow(img)"
      ],
      "metadata": {
        "colab": {
          "base_uri": "https://localhost:8080/",
          "height": 341
        },
        "outputId": "32184879-9898-4f17-f080-e04eda2b2906",
        "id": "vopaQ0GvgWi-"
      },
      "execution_count": null,
      "outputs": [
        {
          "output_type": "display_data",
          "data": {
            "text/plain": [
              "<PIL.Image.Image image mode=RGB size=576x324>"
            ],
            "image/png": "[encoded data removed]"
          },
          "metadata": {}
        }
      ]
    },
    {
      "cell_type": "code",
      "source": [
        "img = cv2.imread(\"/content/new.png\")\n",
        "cv2_imshow(img)\n",
        "print(img.shape)"
      ],
      "metadata": {
        "colab": {
          "base_uri": "https://localhost:8080/",
          "height": 162
        },
        "id": "zm6f9DQrAzSX",
        "outputId": "313ba09f-0c7a-484e-a6aa-a8c548d0e91b"
      },
      "execution_count": null,
      "outputs": [
        {
          "output_type": "display_data",
          "data": {
            "text/plain": [
              "<PIL.Image.Image image mode=RGB size=398x127>"
            ],
            "image/png": "[encoded data removed]"
          },
          "metadata": {}
        },
        {
          "output_type": "stream",
          "name": "stdout",
          "text": [
            "(127, 398, 3)\n"
          ]
        }
      ]
    },
    {
      "cell_type": "code",
      "source": [
        "Gray_img = cv2.cvtColor(img,cv2.COLOR_BGR2GRAY)\n",
        "cv2_imshow(Gray_img)\n",
        "print(Gray_img.shape)"
      ],
      "metadata": {
        "colab": {
          "base_uri": "https://localhost:8080/",
          "height": 162
        },
        "id": "ZAgvt-R9AzbX",
        "outputId": "e355e6d8-28e9-4d86-aaed-eb7c3e382e2b"
      },
      "execution_count": null,
      "outputs": [
        {
          "output_type": "display_data",
          "data": {
            "text/plain": [
              "<PIL.Image.Image image mode=L size=398x127>"
            ],
            "image/png": "[encoded data removed]"
          },
          "metadata": {}
        },
        {
          "output_type": "stream",
          "name": "stdout",
          "text": [
            "(127, 398)\n"
          ]
        }
      ]
    },
    {
      "cell_type": "code",
      "source": [
        "yy = cv2.GaussianBlur(Gray_img,(3,3),cv2.BORDER_DEFAULT)\n",
        "cv2_imshow(yy)"
      ],
      "metadata": {
        "colab": {
          "base_uri": "https://localhost:8080/",
          "height": 144
        },
        "id": "2EoUS4_rAzeI",
        "outputId": "4ba78fd6-7c26-40cf-848f-13fee6cb07e2"
      },
      "execution_count": null,
      "outputs": [
        {
          "output_type": "display_data",
          "data": {
            "text/plain": [
              "<PIL.Image.Image image mode=L size=398x127>"
            ],
            "image/png": "[encoded data removed]"
          },
          "metadata": {}
        }
      ]
    },
    {
      "cell_type": "code",
      "source": [
        "ix = cv2.Sobel(yy,cv2.CV_64F,1,0,ksize = 3)\n",
        "cv2_imshow(ix)"
      ],
      "metadata": {
        "colab": {
          "base_uri": "https://localhost:8080/",
          "height": 144
        },
        "id": "uXfx6QE1Azgv",
        "outputId": "ac7c65a3-7d7a-452d-8f0a-1f17ea503861"
      },
      "execution_count": null,
      "outputs": [
        {
          "output_type": "display_data",
          "data": {
            "text/plain": [
              "<PIL.Image.Image image mode=L size=398x127>"
            ],
            "image/png": "[encoded data removed]"
          },
          "metadata": {}
        }
      ]
    },
    {
      "cell_type": "code",
      "source": [
        "iy = cv2.Sobel(yy,cv2.CV_64F,0,1,ksize = 3)\n",
        "cv2_imshow(iy)"
      ],
      "metadata": {
        "colab": {
          "base_uri": "https://localhost:8080/",
          "height": 144
        },
        "id": "JJ8PTy6JEld6",
        "outputId": "d1b04f61-6311-40d5-81af-60b4398e68ff"
      },
      "execution_count": null,
      "outputs": [
        {
          "output_type": "display_data",
          "data": {
            "text/plain": [
              "<PIL.Image.Image image mode=L size=398x127>"
            ],
            "image/png": "[encoded data removed]"
          },
          "metadata": {}
        }
      ]
    },
    {
      "cell_type": "code",
      "source": [
        "ixSquare = np.square(ix)\n",
        "iySquare = np.square(iy)\n",
        "print(ixSquare , iySquare)"
      ],
      "metadata": {
        "colab": {
          "base_uri": "https://localhost:8080/"
        },
        "id": "bp7nlnA1Elgn",
        "outputId": "4c7b22d1-c03e-4671-a2ab-3b967335b6fe"
      },
      "execution_count": null,
      "outputs": [
        {
          "output_type": "stream",
          "name": "stdout",
          "text": [
            "[[0. 0. 0. ... 0. 0. 0.]\n",
            " [0. 0. 0. ... 0. 0. 0.]\n",
            " [0. 0. 0. ... 0. 0. 0.]\n",
            " ...\n",
            " [0. 0. 0. ... 0. 0. 0.]\n",
            " [0. 0. 0. ... 0. 0. 0.]\n",
            " [0. 0. 0. ... 0. 0. 0.]] [[0. 0. 0. ... 0. 0. 0.]\n",
            " [0. 0. 0. ... 0. 0. 0.]\n",
            " [0. 0. 0. ... 0. 0. 0.]\n",
            " ...\n",
            " [0. 0. 0. ... 0. 0. 0.]\n",
            " [0. 0. 0. ... 0. 0. 0.]\n",
            " [0. 0. 0. ... 0. 0. 0.]]\n"
          ]
        }
      ]
    },
    {
      "cell_type": "code",
      "source": [
        "ixiy = ix * iy"
      ],
      "metadata": {
        "id": "mItyeRM7Ellx"
      },
      "execution_count": null,
      "outputs": []
    },
    {
      "cell_type": "code",
      "source": [
        "cv2_imshow(ixSquare)"
      ],
      "metadata": {
        "colab": {
          "base_uri": "https://localhost:8080/",
          "height": 144
        },
        "id": "_wAm3TLzGyqO",
        "outputId": "ae0932ae-7441-43aa-d23e-38ca37a1b560"
      },
      "execution_count": null,
      "outputs": [
        {
          "output_type": "display_data",
          "data": {
            "text/plain": [
              "<PIL.Image.Image image mode=L size=398x127>"
            ],
            "image/png": "[encoded data removed]"
          },
          "metadata": {}
        }
      ]
    },
    {
      "cell_type": "code",
      "source": [
        "cv2_imshow(iySquare)\n"
      ],
      "metadata": {
        "colab": {
          "base_uri": "https://localhost:8080/",
          "height": 144
        },
        "id": "P7AbbIrdGytf",
        "outputId": "7f19aa70-cbd6-44b1-e3bb-abd9302681a4"
      },
      "execution_count": null,
      "outputs": [
        {
          "output_type": "display_data",
          "data": {
            "text/plain": [
              "<PIL.Image.Image image mode=L size=398x127>"
            ],
            "image/png": "[encoded data removed]"
          },
          "metadata": {}
        }
      ]
    },
    {
      "cell_type": "code",
      "source": [
        "cv2_imshow(ixiy)"
      ],
      "metadata": {
        "colab": {
          "base_uri": "https://localhost:8080/",
          "height": 144
        },
        "id": "n4iZbsjZHFe5",
        "outputId": "ac980aea-5f47-4556-8c4c-783eda8504aa"
      },
      "execution_count": null,
      "outputs": [
        {
          "output_type": "display_data",
          "data": {
            "text/plain": [
              "<PIL.Image.Image image mode=L size=398x127>"
            ],
            "image/png": "[encoded data removed]"
          },
          "metadata": {}
        }
      ]
    },
    {
      "cell_type": "code",
      "source": [
        "#Given image has defined or clear horizonal , vertical edges and corners. Using Sobel operators Gradients along x , y directions are determined.These gradients show black and white bars against gray background.\n",
        "#Images showing ixsqaure and iysquare (Square of gradients) along x , y direction has white bar againest gray backgroung this is because negative value of gradients is coverted to positive valuse of gradients.\n",
        "#Image showing ix*iy shows white pixels at locations where both ix and iy have non zero values (Either positive or negative)"
      ],
      "metadata": {
        "id": "xywN5T0bElpA"
      },
      "execution_count": null,
      "outputs": []
    },
    {
      "cell_type": "code",
      "source": [
        "R = np.zeros((ix.shape))\n",
        "plt.imshow(R, cmap = 'gray')"
      ],
      "metadata": {
        "colab": {
          "base_uri": "https://localhost:8080/",
          "height": 241
        },
        "id": "RJyIO0waIFSa",
        "outputId": "f02a4eb9-233a-4343-c40f-32dd8f9ba667"
      },
      "execution_count": null,
      "outputs": [
        {
          "output_type": "execute_result",
          "data": {
            "text/plain": [
              "<matplotlib.image.AxesImage at 0x79d878976ce0>"
            ]
          },
          "metadata": {},
          "execution_count": 139
        },
        {
          "output_type": "display_data",
          "data": {
            "text/plain": [
              "<Figure size 640x480 with 1 Axes>"
            ],
            "image/png": "[encoded data removed]"
          },
          "metadata": {}
        }
      ]
    },
    {
      "cell_type": "code",
      "source": [
        "R.shape"
      ],
      "metadata": {
        "colab": {
          "base_uri": "https://localhost:8080/"
        },
        "id": "ozAB2NJPIFVv",
        "outputId": "4d57f3f2-36dc-4c2c-9757-72a0b4431e1e"
      },
      "execution_count": null,
      "outputs": [
        {
          "output_type": "execute_result",
          "data": {
            "text/plain": [
              "(127, 398)"
            ]
          },
          "metadata": {},
          "execution_count": 140
        }
      ]
    },
    {
      "cell_type": "code",
      "source": [
        "window_size = 3\n",
        "st = int((window_size-1)/2)\n",
        "st"
      ],
      "metadata": {
        "colab": {
          "base_uri": "https://localhost:8080/"
        },
        "id": "ZCV4RbVdJSvR",
        "outputId": "b16b821a-4530-4b7e-c298-8d4c4193851f"
      },
      "execution_count": null,
      "outputs": [
        {
          "output_type": "execute_result",
          "data": {
            "text/plain": [
              "1"
            ]
          },
          "metadata": {},
          "execution_count": 141
        }
      ]
    },
    {
      "cell_type": "code",
      "source": [
        "window_size = 7\n",
        "st = int((window_size-1)/2)\n",
        "st"
      ],
      "metadata": {
        "colab": {
          "base_uri": "https://localhost:8080/"
        },
        "id": "WFs08UevYUIF",
        "outputId": "9a90e141-12e2-44e1-f3ea-d7b6494e3f82"
      },
      "execution_count": null,
      "outputs": [
        {
          "output_type": "execute_result",
          "data": {
            "text/plain": [
              "3"
            ]
          },
          "metadata": {},
          "execution_count": 142
        }
      ]
    },
    {
      "cell_type": "code",
      "source": [
        "for r in range (st , ix.shape[0]-st):\n",
        "  for c in range(st ,ix.shape[1]-st ):\n",
        "    sum1 = np.sum(ixSquare[r-st:r+st,c-st:c+st])\n",
        "    sum2 = np.sum(iySquare[r-st:r+st,c-st:c+st])\n",
        "    sum3 = np.sum(ixiy[r-st:r+st,c-st:c+st])\n",
        "    det = sum1*sum2 - sum3**2\n",
        "    trace = sum1+sum2\n",
        "    R[r,c] = det - 0.04*(trace**2)"
      ],
      "metadata": {
        "id": "cIhbRnU_JSyX"
      },
      "execution_count": null,
      "outputs": []
    },
    {
      "cell_type": "code",
      "source": [
        "np.max(R)"
      ],
      "metadata": {
        "colab": {
          "base_uri": "https://localhost:8080/"
        },
        "id": "N2z54CmFP6Fl",
        "outputId": "41656320-77c5-479f-e483-ebeed3325832"
      },
      "execution_count": null,
      "outputs": [
        {
          "output_type": "execute_result",
          "data": {
            "text/plain": [
              "917857706022.56"
            ]
          },
          "metadata": {},
          "execution_count": 144
        }
      ]
    },
    {
      "cell_type": "code",
      "source": [
        "mx =np.max(np.max(R))\n",
        "Corner = []\n",
        "threshold=0.5*mx\n",
        "for r in range (R.shape[0]):\n",
        "  for c in range(R.shape[1]):\n",
        "    if R[r,c] > threshold:\n",
        "      Corner.append([c,r])\n",
        "      cv2.circle(img,Corner[-1],radius=3,color=(0,0,255))\n",
        "len(Corner)\n",
        "cv2_imshow(img)"
      ],
      "metadata": {
        "colab": {
          "base_uri": "https://localhost:8080/",
          "height": 144
        },
        "id": "8z-bN8x8P6IU",
        "outputId": "23a68565-11ec-46ff-d77e-9f0ddc76dd15"
      },
      "execution_count": null,
      "outputs": [
        {
          "output_type": "display_data",
          "data": {
            "text/plain": [
              "<PIL.Image.Image image mode=RGB size=398x127>"
            ],
            "image/png": "[encoded data removed]"
          },
          "metadata": {}
        }
      ]
    },
    {
      "cell_type": "code",
      "source": [
        "mx =np.max(np.max(R))\n",
        "Corner = []\n",
        "threshold=0.6*mx\n",
        "for r in range (R.shape[0]):\n",
        "  for c in range(R.shape[1]):\n",
        "    if R[r,c] > threshold:\n",
        "      Corner.append([c,r])\n",
        "      cv2.circle(img,Corner[-1],radius=3,color=(0,0,255))\n",
        "len(Corner)\n",
        "cv2_imshow(img)"
      ],
      "metadata": {
        "colab": {
          "base_uri": "https://localhost:8080/",
          "height": 144
        },
        "id": "dcls65sUYL11",
        "outputId": "b5fb1aac-7778-42fd-9e77-ac12aab7a931"
      },
      "execution_count": null,
      "outputs": [
        {
          "output_type": "display_data",
          "data": {
            "text/plain": [
              "<PIL.Image.Image image mode=RGB size=398x127>"
            ],
            "image/png": "[encoded data removed]"
          },
          "metadata": {}
        }
      ]
    },
    {
      "cell_type": "code",
      "source": [
        "#For the threshold of 50% of the max value of corner response 26 corner points are identified. If threshold is incresed to 60% then the corner points are identified.\n",
        "#If threshold is incresed lesser no. of corner points, large value of threshold identifies sharp corners only.\n",
        "#If window side is increased from 3*3 to 7*7 then broad corner points are also idetified this is beacuse within the large window accomodates large corner points.\n",
        "#The same detector is applied on another image which shows 26 number of corner points."
      ],
      "metadata": {
        "id": "fVbKprY4XOVG"
      },
      "execution_count": null,
      "outputs": []
    }
  ]
}